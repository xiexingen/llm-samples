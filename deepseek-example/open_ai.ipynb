{
 "cells": [
  {
   "cell_type": "markdown",
   "metadata": {},
   "source": [
    "1. 通过 OpenAI 访问 DeepSeek"
   ]
  },
  {
   "cell_type": "code",
   "execution_count": 8,
   "metadata": {},
   "outputs": [
    {
     "name": "stdout",
     "output_type": "stream",
     "text": [
      "你好！我是一个人工智能助手，专门设计用来回答各种问题、提供信息、帮助解决问题和进行对话。你可以问我任何问题，我会尽力提供帮助。有什么我可以为你做的吗？\n"
     ]
    }
   ],
   "source": [
    "import os\n",
    "from dotenv import load_dotenv\n",
    "from openai import OpenAI\n",
    "\n",
    "load_dotenv()\n",
    "\n",
    "# 创建OpenAI客户端(openai同样适用deepseek)，设置访问 deepseek 的地址\n",
    "api_key = os.getenv(\"DEEPSEEK_API_KEY\")\n",
    "client = OpenAI(api_key=api_key,base_url=\"https://api.deepseek.com\")\n",
    "\n",
    "# 访问 deepseek 的模型\n",
    "# 设置模式为 deepseek-chat\n",
    "# 设置 messages role system 系统提示词\n",
    "# 设置 messages role user 用户提问内容\n",
    "response = client.chat.completions.create(\n",
    "  model=\"deepseek-chat\",\n",
    "  messages= [\n",
    "    {\"role\":\"system\",\"content\":\"你作为一个AI助手回答我的问题\"},\n",
    "    {\"role\":\"user\",\"content\":\"你好，你是谁?\"}\n",
    "  ],\n",
    "  stream=False\n",
    ")\n",
    "print(response.choices[0].message.content)\n"
   ]
  }
 ],
 "metadata": {
  "kernelspec": {
   "display_name": "deepseek",
   "language": "python",
   "name": "python3"
  },
  "language_info": {
   "codemirror_mode": {
    "name": "ipython",
    "version": 3
   },
   "file_extension": ".py",
   "mimetype": "text/x-python",
   "name": "python",
   "nbconvert_exporter": "python",
   "pygments_lexer": "ipython3",
   "version": "3.10.16"
  }
 },
 "nbformat": 4,
 "nbformat_minor": 2
}
